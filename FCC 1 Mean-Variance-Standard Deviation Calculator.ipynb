{
 "cells": [
  {
   "cell_type": "code",
   "execution_count": 62,
   "id": "1a79c979-e7b0-4dd3-8d51-93e316dbb2d5",
   "metadata": {},
   "outputs": [
    {
     "data": {
      "text/plain": [
       "{'mean': [[4.0, 5.0, 6.0], [2.0, 5.0, 8.0], 5.0],\n",
       " 'variance': [[6.0, 6.0, 6.0],\n",
       "  [0.6666666666666666, 0.6666666666666666, 0.6666666666666666],\n",
       "  6.666666666666667],\n",
       " 'standard deviaition': [[2.449489742783178,\n",
       "   2.449489742783178,\n",
       "   2.449489742783178],\n",
       "  [0.816496580927726, 0.816496580927726, 0.816496580927726],\n",
       "  2.581988897471611],\n",
       " 'max': [[7, 8, 9], [3, 6, 9], 9],\n",
       " 'min': [[1, 2, 3], [1, 4, 7], 1],\n",
       " 'sum': [[12, 15, 18], [6, 15, 24], 45]}"
      ]
     },
     "execution_count": 62,
     "metadata": {},
     "output_type": "execute_result"
    }
   ],
   "source": [
    "# Mean-Variance-Standard Deviation Calculator\n",
    "\n",
    "import numpy as np\n",
    "\n",
    "def calculate(user_input):\n",
    "    np_input = np.array(user_input).reshape(3, 3)\n",
    "    mean1 = np.mean(np_input, axis=0)\n",
    "    mean2 = np.mean(np_input, axis=1)\n",
    "    mean3 = np.mean(np_input)\n",
    "    var1 = np.var(np_input, axis=0)\n",
    "    var2 = np.var(np_input, axis=1)\n",
    "    var3 = np.var(np_input)\n",
    "    std1 = np.std(np_input, axis=0)\n",
    "    std2 = np.std(np_input, axis=1)\n",
    "    std3 = np.std(np_input)\n",
    "    max1 = np.max(np_input, axis=0)\n",
    "    max2 = np.max(np_input, axis=1)\n",
    "    max3 = np.max(np_input)\n",
    "    min1 = np.min(np_input, axis=0)\n",
    "    min2 = np.min(np_input, axis=1)\n",
    "    min3 = np.min(np_input)\n",
    "    sum1 = np.sum(np_input, axis=0)\n",
    "    sum2 = np.sum(np_input, axis=1)\n",
    "    sum3 = np.sum(np_input)\n",
    "    return {\n",
    "            'mean': [mean1.tolist(), mean2.tolist(), mean3.tolist()], \n",
    "            'variance' : [var1.tolist(), var2.tolist(), var3.tolist()],\n",
    "            'standard deviaition' : [std1.tolist(), std2.tolist(), std3.tolist()],\n",
    "            'max' : [max1.tolist(), max2.tolist(), max3.tolist()],\n",
    "            'min' : [min1.tolist(), min2.tolist(), min3.tolist()],\n",
    "            'sum' : [sum1.tolist(), sum2.tolist(), sum3.tolist()],\n",
    "           }\n",
    "\n",
    "calculate([1, 2, 3, 4, 5 ,6 ,7 ,8 ,9])"
   ]
  },
  {
   "cell_type": "code",
   "execution_count": null,
   "id": "90d4c521-6548-4401-8d54-5add48a000dd",
   "metadata": {},
   "outputs": [],
   "source": []
  }
 ],
 "metadata": {
  "kernelspec": {
   "display_name": "Python 3 (ipykernel)",
   "language": "python",
   "name": "python3"
  },
  "language_info": {
   "codemirror_mode": {
    "name": "ipython",
    "version": 3
   },
   "file_extension": ".py",
   "mimetype": "text/x-python",
   "name": "python",
   "nbconvert_exporter": "python",
   "pygments_lexer": "ipython3",
   "version": "3.12.0"
  }
 },
 "nbformat": 4,
 "nbformat_minor": 5
}
