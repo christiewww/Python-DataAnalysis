{
 "cells": [
  {
   "cell_type": "code",
   "execution_count": 120,
   "id": "d440de8f-9bff-48c7-b105-eace5808c5cb",
   "metadata": {},
   "outputs": [
    {
     "data": {
      "text/plain": [
       "occupation\n",
       "Prof-specialty      25\n",
       "Exec-managerial      8\n",
       "Other-service        2\n",
       "Tech-support         2\n",
       "Transport-moving     1\n",
       "Sales                1\n",
       "Adm-clerical         1\n",
       "Name: count, dtype: int64"
      ]
     },
     "execution_count": 120,
     "metadata": {},
     "output_type": "execute_result"
    }
   ],
   "source": [
    "# Demographic Data Analyzer\n",
    "\n",
    "import numpy as np\n",
    "import pandas as pd\n",
    "\n",
    "demo = pd.DataFrame(pd.read_csv(\"adult.data.csv\"))\n",
    "demo.head()\n",
    "\n",
    "# How many people of each race are represented in this dataset? \n",
    "demo['race'].value_counts()\n",
    "\n",
    "# What is the average age of men?\n",
    "demo.loc[demo['sex'] == 'Male','age'].mean()\n",
    "\n",
    "# What is the percentage of people who have a Bachelor's degree?\n",
    "len(demo.loc[demo['education'] == 'Bachelors']) / demo['education'].count()\n",
    "\n",
    "# What percentage of people with advanced education (Bachelors, Masters, or Doctorate) make more than 50K?\n",
    "len(demo.loc[demo['education'] == 'Bachelors']) / len(demo.loc[demo['salary'] == '>50K']) + len(demo.loc[demo['education'] == 'Masters']) / len(demo.loc[demo['salary'] == '>50K']) + len(demo.loc[demo['education'] == 'Doctorate']) / len(demo.loc[demo['salary'] == '>50K'])\n",
    "\n",
    "# What percentage of people without advanced education make more than 50K?\n",
    "(len(demo.loc[demo['salary'] == '>50K']) - len(demo.loc[demo['education'] == 'Bachelors']) - len(demo.loc[demo['education'] == 'Masters']) - len(demo.loc[demo['education'] == 'Doctorate'])) / len(demo.loc[demo['salary'] == '>50K'])\n",
    "\n",
    "# What is the minimum number of hours a person works per week?\n",
    "demo['hours-per-week'].min()\n",
    "\n",
    "# What percentage of the people who work the minimum number of hours per week have a salary of more than 50K?\n",
    "len(demo.loc[demo['hours-per-week'] == demo['hours-per-week'].min()]) / len(demo.loc[demo['salary'] == '>50K'])\n",
    "\n",
    "# What country has the highest percentage of people that earn >50K and what is that percentage?\n",
    "demo.loc[demo['salary'] == '>50K','native-country'].value_counts()\n",
    "demo.loc[demo['salary'] == '>50K','native-country'].value_counts().max() / len(demo.loc[demo['salary'] == '>50K'])\n",
    "\n",
    "# Identify the most popular occupation for those who earn >50K in India.\n",
    "demo.loc[(demo['native-country'] == 'India') & (demo['salary'] == '>50K'),'occupation'].value_counts()"
   ]
  },
  {
   "cell_type": "code",
   "execution_count": null,
   "id": "0d89b19b-105a-44f1-bc3d-91f1e41df231",
   "metadata": {},
   "outputs": [],
   "source": []
  }
 ],
 "metadata": {
  "kernelspec": {
   "display_name": "Python 3 (ipykernel)",
   "language": "python",
   "name": "python3"
  },
  "language_info": {
   "codemirror_mode": {
    "name": "ipython",
    "version": 3
   },
   "file_extension": ".py",
   "mimetype": "text/x-python",
   "name": "python",
   "nbconvert_exporter": "python",
   "pygments_lexer": "ipython3",
   "version": "3.12.0"
  }
 },
 "nbformat": 4,
 "nbformat_minor": 5
}
